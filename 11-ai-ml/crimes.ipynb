{
 "cells": [
  {
   "cell_type": "code",
   "execution_count": 1,
   "id": "84f366ae-46e1-4ec6-b164-c7b9f2c57b24",
   "metadata": {},
   "outputs": [],
   "source": [
    "import pandas as pd"
   ]
  },
  {
   "cell_type": "code",
   "execution_count": 2,
   "id": "c86d6f15-edce-4b32-8d39-b639cae07978",
   "metadata": {},
   "outputs": [],
   "source": [
    "data = pd.read_csv('crimes.csv')"
   ]
  },
  {
   "cell_type": "code",
   "execution_count": 3,
   "id": "26d2e811-2255-49d1-a721-eaae9218ebb5",
   "metadata": {},
   "outputs": [
    {
     "data": {
      "text/plain": [
       "(104178, 22)"
      ]
     },
     "execution_count": 3,
     "metadata": {},
     "output_type": "execute_result"
    }
   ],
   "source": [
    "data.shape"
   ]
  },
  {
   "cell_type": "code",
   "execution_count": 4,
   "id": "5fb05183-3479-4084-a57d-6aa76311580d",
   "metadata": {},
   "outputs": [
    {
     "data": {
      "text/html": [
       "<div>\n",
       "<style scoped>\n",
       "    .dataframe tbody tr th:only-of-type {\n",
       "        vertical-align: middle;\n",
       "    }\n",
       "\n",
       "    .dataframe tbody tr th {\n",
       "        vertical-align: top;\n",
       "    }\n",
       "\n",
       "    .dataframe thead th {\n",
       "        text-align: right;\n",
       "    }\n",
       "</style>\n",
       "<table border=\"1\" class=\"dataframe\">\n",
       "  <thead>\n",
       "    <tr style=\"text-align: right;\">\n",
       "      <th></th>\n",
       "      <th>ID</th>\n",
       "      <th>Case Number</th>\n",
       "      <th>Date</th>\n",
       "      <th>Block</th>\n",
       "      <th>IUCR</th>\n",
       "      <th>Primary Type</th>\n",
       "      <th>Description</th>\n",
       "      <th>Location Description</th>\n",
       "      <th>Arrest</th>\n",
       "      <th>Domestic</th>\n",
       "      <th>...</th>\n",
       "      <th>Ward</th>\n",
       "      <th>Community Area</th>\n",
       "      <th>FBI Code</th>\n",
       "      <th>X Coordinate</th>\n",
       "      <th>Y Coordinate</th>\n",
       "      <th>Year</th>\n",
       "      <th>Updated On</th>\n",
       "      <th>Latitude</th>\n",
       "      <th>Longitude</th>\n",
       "      <th>Location</th>\n",
       "    </tr>\n",
       "  </thead>\n",
       "  <tbody>\n",
       "    <tr>\n",
       "      <th>0</th>\n",
       "      <td>12943607</td>\n",
       "      <td>JG106063</td>\n",
       "      <td>01/06/2023 02:22:00 AM</td>\n",
       "      <td>002XX S LAVERGNE AVE</td>\n",
       "      <td>0313</td>\n",
       "      <td>ROBBERY</td>\n",
       "      <td>ARMED - OTHER DANGEROUS WEAPON</td>\n",
       "      <td>SIDEWALK</td>\n",
       "      <td>False</td>\n",
       "      <td>False</td>\n",
       "      <td>...</td>\n",
       "      <td>28.0</td>\n",
       "      <td>25</td>\n",
       "      <td>03</td>\n",
       "      <td>1143289.0</td>\n",
       "      <td>1898790.0</td>\n",
       "      <td>2023</td>\n",
       "      <td>01/13/2023 03:49:35 PM</td>\n",
       "      <td>41.878318</td>\n",
       "      <td>-87.749341</td>\n",
       "      <td>(41.878317645, -87.74934071)</td>\n",
       "    </tr>\n",
       "    <tr>\n",
       "      <th>1</th>\n",
       "      <td>12943730</td>\n",
       "      <td>JG106158</td>\n",
       "      <td>01/06/2023 12:00:00 AM</td>\n",
       "      <td>018XX N WILMOT AVE</td>\n",
       "      <td>1320</td>\n",
       "      <td>CRIMINAL DAMAGE</td>\n",
       "      <td>TO VEHICLE</td>\n",
       "      <td>STREET</td>\n",
       "      <td>False</td>\n",
       "      <td>False</td>\n",
       "      <td>...</td>\n",
       "      <td>32.0</td>\n",
       "      <td>22</td>\n",
       "      <td>14</td>\n",
       "      <td>1161051.0</td>\n",
       "      <td>1912452.0</td>\n",
       "      <td>2023</td>\n",
       "      <td>01/13/2023 03:49:35 PM</td>\n",
       "      <td>41.915457</td>\n",
       "      <td>-87.683743</td>\n",
       "      <td>(41.915457116, -87.683742517)</td>\n",
       "    </tr>\n",
       "    <tr>\n",
       "      <th>2</th>\n",
       "      <td>12944080</td>\n",
       "      <td>JG106206</td>\n",
       "      <td>01/06/2023 08:25:00 AM</td>\n",
       "      <td>050XX W QUINCY ST</td>\n",
       "      <td>1310</td>\n",
       "      <td>CRIMINAL DAMAGE</td>\n",
       "      <td>TO PROPERTY</td>\n",
       "      <td>APARTMENT</td>\n",
       "      <td>False</td>\n",
       "      <td>True</td>\n",
       "      <td>...</td>\n",
       "      <td>28.0</td>\n",
       "      <td>25</td>\n",
       "      <td>14</td>\n",
       "      <td>1142786.0</td>\n",
       "      <td>1898531.0</td>\n",
       "      <td>2023</td>\n",
       "      <td>01/13/2023 03:49:35 PM</td>\n",
       "      <td>41.877616</td>\n",
       "      <td>-87.751194</td>\n",
       "      <td>(41.877616294, -87.751194088)</td>\n",
       "    </tr>\n",
       "    <tr>\n",
       "      <th>3</th>\n",
       "      <td>12944580</td>\n",
       "      <td>JG107088</td>\n",
       "      <td>01/06/2023 08:17:00 PM</td>\n",
       "      <td>047XX W VAN BUREN ST</td>\n",
       "      <td>0470</td>\n",
       "      <td>PUBLIC PEACE VIOLATION</td>\n",
       "      <td>RECKLESS CONDUCT</td>\n",
       "      <td>STREET</td>\n",
       "      <td>True</td>\n",
       "      <td>False</td>\n",
       "      <td>...</td>\n",
       "      <td>28.0</td>\n",
       "      <td>25</td>\n",
       "      <td>24</td>\n",
       "      <td>1144761.0</td>\n",
       "      <td>1897604.0</td>\n",
       "      <td>2023</td>\n",
       "      <td>01/13/2023 03:49:35 PM</td>\n",
       "      <td>41.875036</td>\n",
       "      <td>-87.743966</td>\n",
       "      <td>(41.875035504, -87.74396569)</td>\n",
       "    </tr>\n",
       "    <tr>\n",
       "      <th>4</th>\n",
       "      <td>12944435</td>\n",
       "      <td>JG107020</td>\n",
       "      <td>01/06/2023 07:20:00 PM</td>\n",
       "      <td>003XX N MICHIGAN AVE</td>\n",
       "      <td>0460</td>\n",
       "      <td>BATTERY</td>\n",
       "      <td>SIMPLE</td>\n",
       "      <td>STREET</td>\n",
       "      <td>False</td>\n",
       "      <td>False</td>\n",
       "      <td>...</td>\n",
       "      <td>42.0</td>\n",
       "      <td>32</td>\n",
       "      <td>08B</td>\n",
       "      <td>1177263.0</td>\n",
       "      <td>1902734.0</td>\n",
       "      <td>2023</td>\n",
       "      <td>01/13/2023 03:49:35 PM</td>\n",
       "      <td>41.888438</td>\n",
       "      <td>-87.624477</td>\n",
       "      <td>(41.888438092, -87.624476665)</td>\n",
       "    </tr>\n",
       "  </tbody>\n",
       "</table>\n",
       "<p>5 rows × 22 columns</p>\n",
       "</div>"
      ],
      "text/plain": [
       "         ID Case Number                    Date                 Block  IUCR  \\\n",
       "0  12943607    JG106063  01/06/2023 02:22:00 AM  002XX S LAVERGNE AVE  0313   \n",
       "1  12943730    JG106158  01/06/2023 12:00:00 AM    018XX N WILMOT AVE  1320   \n",
       "2  12944080    JG106206  01/06/2023 08:25:00 AM     050XX W QUINCY ST  1310   \n",
       "3  12944580    JG107088  01/06/2023 08:17:00 PM  047XX W VAN BUREN ST  0470   \n",
       "4  12944435    JG107020  01/06/2023 07:20:00 PM  003XX N MICHIGAN AVE  0460   \n",
       "\n",
       "             Primary Type                     Description  \\\n",
       "0                 ROBBERY  ARMED - OTHER DANGEROUS WEAPON   \n",
       "1         CRIMINAL DAMAGE                      TO VEHICLE   \n",
       "2         CRIMINAL DAMAGE                     TO PROPERTY   \n",
       "3  PUBLIC PEACE VIOLATION                RECKLESS CONDUCT   \n",
       "4                 BATTERY                          SIMPLE   \n",
       "\n",
       "  Location Description  Arrest  Domestic  ...  Ward  Community Area  FBI Code  \\\n",
       "0             SIDEWALK   False     False  ...  28.0              25        03   \n",
       "1               STREET   False     False  ...  32.0              22        14   \n",
       "2            APARTMENT   False      True  ...  28.0              25        14   \n",
       "3               STREET    True     False  ...  28.0              25        24   \n",
       "4               STREET   False     False  ...  42.0              32       08B   \n",
       "\n",
       "   X Coordinate Y Coordinate  Year              Updated On   Latitude  \\\n",
       "0     1143289.0    1898790.0  2023  01/13/2023 03:49:35 PM  41.878318   \n",
       "1     1161051.0    1912452.0  2023  01/13/2023 03:49:35 PM  41.915457   \n",
       "2     1142786.0    1898531.0  2023  01/13/2023 03:49:35 PM  41.877616   \n",
       "3     1144761.0    1897604.0  2023  01/13/2023 03:49:35 PM  41.875036   \n",
       "4     1177263.0    1902734.0  2023  01/13/2023 03:49:35 PM  41.888438   \n",
       "\n",
       "   Longitude                       Location  \n",
       "0 -87.749341   (41.878317645, -87.74934071)  \n",
       "1 -87.683743  (41.915457116, -87.683742517)  \n",
       "2 -87.751194  (41.877616294, -87.751194088)  \n",
       "3 -87.743966   (41.875035504, -87.74396569)  \n",
       "4 -87.624477  (41.888438092, -87.624476665)  \n",
       "\n",
       "[5 rows x 22 columns]"
      ]
     },
     "execution_count": 4,
     "metadata": {},
     "output_type": "execute_result"
    }
   ],
   "source": [
    "data.head()"
   ]
  },
  {
   "cell_type": "code",
   "execution_count": 5,
   "id": "0ef5b632-29a2-44bb-8d8d-66a578b2735c",
   "metadata": {},
   "outputs": [
    {
     "name": "stdout",
     "output_type": "stream",
     "text": [
      "<class 'pandas.core.frame.DataFrame'>\n",
      "RangeIndex: 104178 entries, 0 to 104177\n",
      "Data columns (total 22 columns):\n",
      " #   Column                Non-Null Count   Dtype  \n",
      "---  ------                --------------   -----  \n",
      " 0   ID                    104178 non-null  int64  \n",
      " 1   Case Number           104178 non-null  object \n",
      " 2   Date                  104178 non-null  object \n",
      " 3   Block                 104178 non-null  object \n",
      " 4   IUCR                  104178 non-null  object \n",
      " 5   Primary Type          104178 non-null  object \n",
      " 6   Description           104178 non-null  object \n",
      " 7   Location Description  103728 non-null  object \n",
      " 8   Arrest                104178 non-null  bool   \n",
      " 9   Domestic              104178 non-null  bool   \n",
      " 10  Beat                  104178 non-null  int64  \n",
      " 11  District              104178 non-null  int64  \n",
      " 12  Ward                  104177 non-null  float64\n",
      " 13  Community Area        104178 non-null  int64  \n",
      " 14  FBI Code              104178 non-null  object \n",
      " 15  X Coordinate          103691 non-null  float64\n",
      " 16  Y Coordinate          103691 non-null  float64\n",
      " 17  Year                  104178 non-null  int64  \n",
      " 18  Updated On            104178 non-null  object \n",
      " 19  Latitude              103691 non-null  float64\n",
      " 20  Longitude             103691 non-null  float64\n",
      " 21  Location              103691 non-null  object \n",
      "dtypes: bool(2), float64(5), int64(5), object(10)\n",
      "memory usage: 16.1+ MB\n"
     ]
    }
   ],
   "source": [
    "data.info()"
   ]
  },
  {
   "cell_type": "code",
   "execution_count": 6,
   "id": "674b5cfa-d315-49a7-b666-8527fd056df8",
   "metadata": {},
   "outputs": [
    {
     "data": {
      "text/plain": [
       "31"
      ]
     },
     "execution_count": 6,
     "metadata": {},
     "output_type": "execute_result"
    }
   ],
   "source": [
    "data['Primary Type'].nunique()"
   ]
  },
  {
   "cell_type": "code",
   "execution_count": 7,
   "id": "e03d43d9-a5b3-43df-9854-ea65ad5aa72a",
   "metadata": {},
   "outputs": [
    {
     "data": {
      "text/plain": [
       "array(['ROBBERY', 'CRIMINAL DAMAGE', 'PUBLIC PEACE VIOLATION', 'BATTERY',\n",
       "       'MOTOR VEHICLE THEFT', 'THEFT', 'NARCOTICS', 'DECEPTIVE PRACTICE',\n",
       "       'OTHER OFFENSE', 'ASSAULT', 'HOMICIDE', 'BURGLARY',\n",
       "       'CRIMINAL TRESPASS', 'WEAPONS VIOLATION',\n",
       "       'CONCEALED CARRY LICENSE VIOLATION', 'CRIMINAL SEXUAL ASSAULT',\n",
       "       'OFFENSE INVOLVING CHILDREN', 'SEX OFFENSE', 'ARSON', 'KIDNAPPING',\n",
       "       'INTERFERENCE WITH PUBLIC OFFICER', 'INTIMIDATION',\n",
       "       'LIQUOR LAW VIOLATION', 'STALKING', 'PROSTITUTION', 'OBSCENITY',\n",
       "       'GAMBLING', 'OTHER NARCOTIC VIOLATION', 'PUBLIC INDECENCY',\n",
       "       'HUMAN TRAFFICKING', 'NON-CRIMINAL'], dtype=object)"
      ]
     },
     "execution_count": 7,
     "metadata": {},
     "output_type": "execute_result"
    }
   ],
   "source": [
    "data['Primary Type'].unique()"
   ]
  },
  {
   "cell_type": "code",
   "execution_count": null,
   "id": "056c570f-a563-44b2-a7c1-46d56d1e5b99",
   "metadata": {},
   "outputs": [],
   "source": []
  }
 ],
 "metadata": {
  "kernelspec": {
   "display_name": "Python 3 (ipykernel)",
   "language": "python",
   "name": "python3"
  },
  "language_info": {
   "codemirror_mode": {
    "name": "ipython",
    "version": 3
   },
   "file_extension": ".py",
   "mimetype": "text/x-python",
   "name": "python",
   "nbconvert_exporter": "python",
   "pygments_lexer": "ipython3",
   "version": "3.12.2"
  }
 },
 "nbformat": 4,
 "nbformat_minor": 5
}
